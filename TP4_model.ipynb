{
 "cells": [
  {
   "cell_type": "markdown",
   "metadata": {},
   "source": [
    "## Library import"
   ]
  },
  {
   "cell_type": "code",
   "execution_count": null,
   "metadata": {},
   "outputs": [],
   "source": [
    "from __future__ import unicode_literals, print_function, division\n",
    "from io import open\n",
    "import random\n",
    "import pandas as pd \n",
    "import numpy as np\n",
    "import torch\n",
    "import torch.nn as nn\n",
    "from torch import optim\n",
    "import torch.nn.functional as F\n",
    "import random\n",
    "\n",
    "\n",
    "device = torch.device(\"cuda\" if torch.cuda.is_available() else \"cpu\")"
   ]
  },
  {
   "cell_type": "markdown",
   "metadata": {},
   "source": [
    "## Data Exploration"
   ]
  },
  {
   "cell_type": "code",
   "execution_count": 2,
   "metadata": {},
   "outputs": [
    {
     "data": {
      "text/html": [
       "<div>\n",
       "<style scoped>\n",
       "    .dataframe tbody tr th:only-of-type {\n",
       "        vertical-align: middle;\n",
       "    }\n",
       "\n",
       "    .dataframe tbody tr th {\n",
       "        vertical-align: top;\n",
       "    }\n",
       "\n",
       "    .dataframe thead th {\n",
       "        text-align: right;\n",
       "    }\n",
       "</style>\n",
       "<table border=\"1\" class=\"dataframe\">\n",
       "  <thead>\n",
       "    <tr style=\"text-align: right;\">\n",
       "      <th></th>\n",
       "      <th>wconfid</th>\n",
       "      <th>pctid</th>\n",
       "      <th>x</th>\n",
       "      <th>y</th>\n",
       "      <th>z</th>\n",
       "    </tr>\n",
       "  </thead>\n",
       "  <tbody>\n",
       "    <tr>\n",
       "      <th>0</th>\n",
       "      <td>1</td>\n",
       "      <td>20</td>\n",
       "      <td>1.004</td>\n",
       "      <td>0.090</td>\n",
       "      <td>-0.125</td>\n",
       "    </tr>\n",
       "    <tr>\n",
       "      <th>1</th>\n",
       "      <td>1</td>\n",
       "      <td>20</td>\n",
       "      <td>1.004</td>\n",
       "      <td>-0.043</td>\n",
       "      <td>-0.125</td>\n",
       "    </tr>\n",
       "    <tr>\n",
       "      <th>2</th>\n",
       "      <td>1</td>\n",
       "      <td>20</td>\n",
       "      <td>0.969</td>\n",
       "      <td>0.090</td>\n",
       "      <td>-0.121</td>\n",
       "    </tr>\n",
       "    <tr>\n",
       "      <th>3</th>\n",
       "      <td>1</td>\n",
       "      <td>20</td>\n",
       "      <td>0.973</td>\n",
       "      <td>-0.012</td>\n",
       "      <td>-0.137</td>\n",
       "    </tr>\n",
       "    <tr>\n",
       "      <th>4</th>\n",
       "      <td>1</td>\n",
       "      <td>20</td>\n",
       "      <td>1.000</td>\n",
       "      <td>-0.016</td>\n",
       "      <td>-0.121</td>\n",
       "    </tr>\n",
       "  </tbody>\n",
       "</table>\n",
       "</div>"
      ],
      "text/plain": [
       "   wconfid  pctid      x      y      z\n",
       "0        1     20  1.004  0.090 -0.125\n",
       "1        1     20  1.004 -0.043 -0.125\n",
       "2        1     20  0.969  0.090 -0.121\n",
       "3        1     20  0.973 -0.012 -0.137\n",
       "4        1     20  1.000 -0.016 -0.121"
      ]
     },
     "execution_count": 2,
     "metadata": {},
     "output_type": "execute_result"
    }
   ],
   "source": [
    "df=pd.read_csv('TRAIN.csv')\n",
    "df.head()"
   ]
  },
  {
   "cell_type": "code",
   "execution_count": 3,
   "metadata": {},
   "outputs": [
    {
     "name": "stdout",
     "output_type": "stream",
     "text": [
      "51\n"
     ]
    }
   ],
   "source": [
    "dfs_per_config = list(zip(* df.groupby(['wconfid','pctid'])))[1]\n",
    "print(len(dfs_per_config))"
   ]
  },
  {
   "cell_type": "code",
   "execution_count": 45,
   "metadata": {},
   "outputs": [],
   "source": [
    "import random\n",
    "rand_config=random.choice(dfs_per_config).reset_index(drop=True)"
   ]
  },
  {
   "cell_type": "markdown",
   "metadata": {},
   "source": [
    "### Visualisation de la trajectoire \n",
    "Generation d'une vidéo d'animation du mouvement"
   ]
  },
  {
   "cell_type": "code",
   "execution_count": 58,
   "metadata": {},
   "outputs": [],
   "source": [
    "# Importing Packages\n",
    "import numpy as np\n",
    "import matplotlib.pyplot as plt\n",
    "from mpl_toolkits.mplot3d import Axes3D\n",
    "from matplotlib import animation\n",
    "\n",
    "\n",
    "def animate_func(num):\n",
    "    ax.clear()  # Clears the figure to update the line, point,   \n",
    "                # title, and axes\n",
    "    # Updating Trajectory Line (num+1 due to Python indexing)\n",
    "    ax.plot3D(dataSet[0, :num+1], dataSet[1, :num+1], \n",
    "              dataSet[2, :num+1], c='blue')\n",
    "    # Updating Point Location \n",
    "    ax.scatter(dataSet[0, num], dataSet[1, num], dataSet[2, num], \n",
    "               c='blue', marker='o')\n",
    "    # Adding Constant Origin\n",
    "    ax.plot3D(dataSet[0, 0], dataSet[1, 0], dataSet[2, 0],     \n",
    "               c='black', marker='o')\n",
    "    CTE_WIDTH=1\n",
    "    # Setting Axes Limits\n",
    "    ax.set_xlim3d([rand_config.x.min()*CTE_WIDTH, rand_config.x.max()*CTE_WIDTH])\n",
    "    ax.set_ylim3d([rand_config.y.min()*CTE_WIDTH, rand_config.y.max()*CTE_WIDTH])\n",
    "    ax.set_zlim3d([rand_config.z.min()*CTE_WIDTH, rand_config.z.max()*CTE_WIDTH])\n",
    "\n",
    "    # Adding Figure Labels\n",
    "    ax.set_title('Trajectory \\nTime = ' + str(np.round(t[num],    \n",
    "                 decimals=2)) + ' sec')\n",
    "    ax.set_xlabel('x')\n",
    "    ax.set_ylabel('y')\n",
    "    ax.set_zlabel('z')\n",
    "import imageio\n",
    "def gif_to_mp4(path , fps):\n",
    "    gif = imageio.get_reader(path+\".gif\")\n",
    "    mp4_writer = imageio.get_writer(path+\".mp4\", fps=fps)\n",
    "    for frame in gif:\n",
    "        mp4_writer.append_data(frame)\n",
    "    mp4_writer.close()\n"
   ]
  },
  {
   "cell_type": "code",
   "execution_count": 59,
   "metadata": {},
   "outputs": [
    {
     "data": {
      "image/png": "[encoded data removed]",
      "text/plain": [
       "<Figure size 640x480 with 1 Axes>"
      ]
     },
     "metadata": {},
     "output_type": "display_data"
    }
   ],
   "source": [
    "# Time Array\n",
    "t = np.linspace(0, 20, 100)\n",
    "\n",
    "\n",
    "# Setting up Data Set for Animation\n",
    "dataSet = np.array([rand_config['x'].values, rand_config['y'].values, rand_config['z'].values]) # Combining our position coordinates\n",
    "numDataPoints = len(t)\n",
    "\n",
    "fig = plt.figure()\n",
    "ax = plt.axes(projection='3d')\n",
    "line_ani = animation.FuncAnimation(fig, animate_func, interval=100,   \n",
    "                                   frames=numDataPoints,repeat=False)\n",
    "\n",
    "f = r\"./animation_random_sample.gif\" \n",
    "writergif = animation.PillowWriter(fps=42) \n",
    "line_ani.save(f, writer=writergif)\n",
    "\n",
    "gif_to_mp4(\"animation_random_sample\",42)\n"
   ]
  },
  {
   "cell_type": "code",
   "execution_count": null,
   "metadata": {},
   "outputs": [],
   "source": []
  },
  {
   "cell_type": "markdown",
   "metadata": {},
   "source": [
    "## Data preparation\n",
    "On va générer tout les échantillons possible de taille 32 -> 1 \n",
    "Pour ce faire on va rouler une fenêtre tout au long du dataset \n",
    "On va essayer de le faire d'une façon un peu plus rapide qu'avec une boucle itérrant sur tout le dataset"
   ]
  },
  {
   "cell_type": "code",
   "execution_count": 17,
   "metadata": {},
   "outputs": [],
   "source": [
    "def gen_samples_rolling_wind(ds , wind):\n",
    "    no_sp_it=len(ds)//wind\n",
    "    all_sp = []\n",
    "    ind_sample = []\n",
    "    for k in range(wind):\n",
    "        const_Tab = np.split(ds[k:] , [wind*i for i in range(no_sp_it+1)])\n",
    "\n",
    "        all_sp = all_sp + const_Tab\n",
    "        ind_sample = ind_sample + [[wind*i+k for z in range(len(elem))] for i,elem in enumerate(const_Tab)]\n",
    "    return all_sp , ind_sample\n",
    "\n",
    "def gen_all_samples(ds,window):\n",
    "    samples , indexes =gen_samples_rolling_wind(ds, window)\n",
    "    alsp = pd.concat(samples)\n",
    "    alsp['ind_sp']=np.concatenate(indexes).astype(int)\n",
    "    alsp['ind_sp'] = alsp['ind_sp']-alsp['ind_sp'].min()\n",
    "    alsp.reset_index(inplace=True)\n",
    "    alsp.sort_values(['ind_sp','index'],inplace=True)\n",
    "    limdf = len(ds)-window\n",
    "    alsp = alsp[alsp.ind_sp<=limdf].reset_index(drop=True)\n",
    "    return alsp"
   ]
  },
  {
   "cell_type": "code",
   "execution_count": 46,
   "metadata": {},
   "outputs": [],
   "source": [
    "train_set = rand_config[['x','y','z']][0:2000+32].copy()\n",
    "test_set = rand_config[['x','y','z']][2000+32:].copy()"
   ]
  },
  {
   "cell_type": "code",
   "execution_count": 47,
   "metadata": {},
   "outputs": [],
   "source": [
    "als=list(zip(*gen_all_samples(train_set.copy(),33).groupby('ind_sp')))[1]\n",
    "als = torch.cat([ torch.Tensor(e[['x','y','z']].values.reshape(1,33,3)) for e in als],axis=0)\n",
    "train_samples=list(zip(als[:,0:32,:].reshape(-1,40,32,3),als[:,32,:].reshape(-1,40,3)))"
   ]
  },
  {
   "cell_type": "code",
   "execution_count": 48,
   "metadata": {},
   "outputs": [
    {
     "data": {
      "text/plain": [
       "50"
      ]
     },
     "execution_count": 48,
     "metadata": {},
     "output_type": "execute_result"
    }
   ],
   "source": [
    "len(train_samples)# 50 batchs de taille 40 chacun"
   ]
  },
  {
   "cell_type": "code",
   "execution_count": 49,
   "metadata": {},
   "outputs": [
    {
     "data": {
      "text/plain": [
       "(torch.Size([40, 32, 3]), torch.Size([40, 3]))"
      ]
     },
     "execution_count": 49,
     "metadata": {},
     "output_type": "execute_result"
    }
   ],
   "source": [
    "train_samples[0][0].shape,train_samples[0][1].shape"
   ]
  },
  {
   "cell_type": "code",
   "execution_count": 50,
   "metadata": {},
   "outputs": [],
   "source": [
    "als_test = list(zip(*gen_all_samples(test_set.copy(),33).groupby('ind_sp')))[1]\n",
    "als_test = torch.cat([ torch.Tensor(e[['x','y','z']].values.reshape(1,33,3)) for e in als_test],axis=0)\n",
    "test_samples=als_test[:,0:32,:].reshape(-1,32,3),als_test[:,32,:].reshape(-1,3)"
   ]
  },
  {
   "cell_type": "markdown",
   "metadata": {},
   "source": [
    "## Model "
   ]
  },
  {
   "cell_type": "code",
   "execution_count": 51,
   "metadata": {},
   "outputs": [],
   "source": [
    "class BaseLineGru(nn.Module):\n",
    "    def __init__(self):\n",
    "        super(BaseLineGru, self).__init__()\n",
    "        self.hidden_size=50\n",
    "        self.num_layers=1\n",
    "        self.bidirec=2\n",
    "        self.input_size=3\n",
    "        self.rec_layer=torch.nn.GRU(input_size= self.input_size,hidden_size=self.hidden_size,num_layers=self.num_layers,\n",
    "        batch_first=True,bidirectional=True)\n",
    "        self.predict_sig = nn.Sequential(\n",
    "                nn.Linear(32*self.bidirec* self.hidden_size , 3))\n",
    "    def forward(self, x):\n",
    "        output_rec, h_n = self.rec_layer(x.reshape(x.shape[0],x.shape[1],-1))\n",
    "        pred_sig = self.predict_sig(output_rec.reshape(x.shape[0],-1))\n",
    "        ## Inverse scaling\n",
    "        return pred_sig\n",
    "\n",
    "def train_loop(dataset,model,loss_fn,optimizer):\n",
    "\n",
    "    for couple in dataset:\n",
    "        x = couple[0]\n",
    "        y_hat = model(x)\n",
    "        y = couple[1]\n",
    "        \n",
    "        loss = loss_fn(\n",
    "            y_hat,\n",
    "            y)\n",
    "        optimizer.zero_grad()\n",
    "        loss.backward()\n",
    "        optimizer.step()\n",
    "        \n",
    "    return "
   ]
  },
  {
   "cell_type": "code",
   "execution_count": null,
   "metadata": {},
   "outputs": [],
   "source": [
    "bsl_g = BaseLineGru().to(device)\n",
    "criterion_g = torch.nn.MSELoss(reduction='mean') \n",
    "optimizer_g = torch.optim.Adam(bsl_g.parameters(), lr=1e-3,weight_decay = 1e-6)\n",
    "epochs = 100\n",
    "\n",
    "for t in range(epochs):\n",
    "    print(f\"Epoch {t+1}\\n-------------------------------\")\n",
    "    train_loop(train_samples.copy(), bsl_g, criterion_g, optimizer_g)\n",
    "    np.random.shuffle(train_samples)\n",
    "    "
   ]
  },
  {
   "cell_type": "code",
   "execution_count": 53,
   "metadata": {},
   "outputs": [],
   "source": [
    "y_hat_test = bsl_g(test_samples[0])"
   ]
  },
  {
   "cell_type": "code",
   "execution_count": 54,
   "metadata": {},
   "outputs": [],
   "source": [
    "pred_set = test_set[32:]"
   ]
  },
  {
   "cell_type": "code",
   "execution_count": 55,
   "metadata": {},
   "outputs": [
    {
     "name": "stderr",
     "output_type": "stream",
     "text": [
      "/usr/local/lib/python3.9/site-packages/pandas/core/indexing.py:659: SettingWithCopyWarning: \n",
      "A value is trying to be set on a copy of a slice from a DataFrame.\n",
      "Try using .loc[row_indexer,col_indexer] = value instead\n",
      "\n",
      "See the caveats in the documentation: https://pandas.pydata.org/pandas-docs/stable/user_guide/indexing.html#returning-a-view-versus-a-copy\n",
      "  self.obj[k] = np.nan\n",
      "/var/folders/cp/23h_lc1972z3pc9nw59kztgh0000gn/T/ipykernel_67703/3014656324.py:1: SettingWithCopyWarning: \n",
      "A value is trying to be set on a copy of a slice from a DataFrame.\n",
      "Try using .loc[row_indexer,col_indexer] = value instead\n",
      "\n",
      "See the caveats in the documentation: https://pandas.pydata.org/pandas-docs/stable/user_guide/indexing.html#returning-a-view-versus-a-copy\n",
      "  pred_set[['x_hat','y_hat','z_hat']]=y_hat_test.detach().numpy()\n",
      "/usr/local/lib/python3.9/site-packages/pandas/core/frame.py:3076: SettingWithCopyWarning: \n",
      "A value is trying to be set on a copy of a slice from a DataFrame\n",
      "\n",
      "See the caveats in the documentation: https://pandas.pydata.org/pandas-docs/stable/user_guide/indexing.html#returning-a-view-versus-a-copy\n",
      "  self.iloc._setitem_with_indexer((slice(None), indexer), value)\n",
      "/usr/local/lib/python3.9/site-packages/pandas/core/frame.py:3041: SettingWithCopyWarning: \n",
      "A value is trying to be set on a copy of a slice from a DataFrame\n",
      "\n",
      "See the caveats in the documentation: https://pandas.pydata.org/pandas-docs/stable/user_guide/indexing.html#returning-a-view-versus-a-copy\n",
      "  self._setitem_array(key, value)\n"
     ]
    }
   ],
   "source": [
    "pred_set[['x_hat','y_hat','z_hat']]=y_hat_test.detach().numpy()"
   ]
  },
  {
   "cell_type": "code",
   "execution_count": 56,
   "metadata": {},
   "outputs": [
    {
     "data": {
      "text/html": [
       "<div>\n",
       "<style scoped>\n",
       "    .dataframe tbody tr th:only-of-type {\n",
       "        vertical-align: middle;\n",
       "    }\n",
       "\n",
       "    .dataframe tbody tr th {\n",
       "        vertical-align: top;\n",
       "    }\n",
       "\n",
       "    .dataframe thead th {\n",
       "        text-align: right;\n",
       "    }\n",
       "</style>\n",
       "<table border=\"1\" class=\"dataframe\">\n",
       "  <thead>\n",
       "    <tr style=\"text-align: right;\">\n",
       "      <th></th>\n",
       "      <th>x</th>\n",
       "      <th>y</th>\n",
       "      <th>z</th>\n",
       "      <th>x_hat</th>\n",
       "      <th>y_hat</th>\n",
       "      <th>z_hat</th>\n",
       "    </tr>\n",
       "  </thead>\n",
       "  <tbody>\n",
       "    <tr>\n",
       "      <th>2064</th>\n",
       "      <td>1.008</td>\n",
       "      <td>0.059</td>\n",
       "      <td>-0.113</td>\n",
       "      <td>1.000620</td>\n",
       "      <td>0.047954</td>\n",
       "      <td>-0.116285</td>\n",
       "    </tr>\n",
       "    <tr>\n",
       "      <th>2065</th>\n",
       "      <td>0.973</td>\n",
       "      <td>-0.031</td>\n",
       "      <td>-0.117</td>\n",
       "      <td>0.990363</td>\n",
       "      <td>-0.022542</td>\n",
       "      <td>-0.119872</td>\n",
       "    </tr>\n",
       "    <tr>\n",
       "      <th>2066</th>\n",
       "      <td>0.984</td>\n",
       "      <td>-0.039</td>\n",
       "      <td>-0.117</td>\n",
       "      <td>0.987823</td>\n",
       "      <td>0.000813</td>\n",
       "      <td>-0.121998</td>\n",
       "    </tr>\n",
       "    <tr>\n",
       "      <th>2067</th>\n",
       "      <td>1.039</td>\n",
       "      <td>0.059</td>\n",
       "      <td>-0.121</td>\n",
       "      <td>1.011233</td>\n",
       "      <td>0.018725</td>\n",
       "      <td>-0.106936</td>\n",
       "    </tr>\n",
       "    <tr>\n",
       "      <th>2068</th>\n",
       "      <td>0.992</td>\n",
       "      <td>-0.051</td>\n",
       "      <td>-0.141</td>\n",
       "      <td>0.990483</td>\n",
       "      <td>-0.006203</td>\n",
       "      <td>-0.134892</td>\n",
       "    </tr>\n",
       "    <tr>\n",
       "      <th>...</th>\n",
       "      <td>...</td>\n",
       "      <td>...</td>\n",
       "      <td>...</td>\n",
       "      <td>...</td>\n",
       "      <td>...</td>\n",
       "      <td>...</td>\n",
       "    </tr>\n",
       "    <tr>\n",
       "      <th>2495</th>\n",
       "      <td>0.984</td>\n",
       "      <td>-0.012</td>\n",
       "      <td>-0.141</td>\n",
       "      <td>0.968812</td>\n",
       "      <td>0.017518</td>\n",
       "      <td>-0.131967</td>\n",
       "    </tr>\n",
       "    <tr>\n",
       "      <th>2496</th>\n",
       "      <td>0.992</td>\n",
       "      <td>0.086</td>\n",
       "      <td>-0.109</td>\n",
       "      <td>1.005312</td>\n",
       "      <td>0.017377</td>\n",
       "      <td>-0.121362</td>\n",
       "    </tr>\n",
       "    <tr>\n",
       "      <th>2497</th>\n",
       "      <td>1.020</td>\n",
       "      <td>-0.082</td>\n",
       "      <td>-0.098</td>\n",
       "      <td>1.003038</td>\n",
       "      <td>0.000674</td>\n",
       "      <td>-0.119478</td>\n",
       "    </tr>\n",
       "    <tr>\n",
       "      <th>2498</th>\n",
       "      <td>0.977</td>\n",
       "      <td>0.000</td>\n",
       "      <td>-0.133</td>\n",
       "      <td>0.969636</td>\n",
       "      <td>-0.009144</td>\n",
       "      <td>-0.136378</td>\n",
       "    </tr>\n",
       "    <tr>\n",
       "      <th>2499</th>\n",
       "      <td>1.020</td>\n",
       "      <td>-0.020</td>\n",
       "      <td>-0.129</td>\n",
       "      <td>1.005434</td>\n",
       "      <td>0.040968</td>\n",
       "      <td>-0.115213</td>\n",
       "    </tr>\n",
       "  </tbody>\n",
       "</table>\n",
       "<p>436 rows × 6 columns</p>\n",
       "</div>"
      ],
      "text/plain": [
       "          x      y      z     x_hat     y_hat     z_hat\n",
       "2064  1.008  0.059 -0.113  1.000620  0.047954 -0.116285\n",
       "2065  0.973 -0.031 -0.117  0.990363 -0.022542 -0.119872\n",
       "2066  0.984 -0.039 -0.117  0.987823  0.000813 -0.121998\n",
       "2067  1.039  0.059 -0.121  1.011233  0.018725 -0.106936\n",
       "2068  0.992 -0.051 -0.141  0.990483 -0.006203 -0.134892\n",
       "...     ...    ...    ...       ...       ...       ...\n",
       "2495  0.984 -0.012 -0.141  0.968812  0.017518 -0.131967\n",
       "2496  0.992  0.086 -0.109  1.005312  0.017377 -0.121362\n",
       "2497  1.020 -0.082 -0.098  1.003038  0.000674 -0.119478\n",
       "2498  0.977  0.000 -0.133  0.969636 -0.009144 -0.136378\n",
       "2499  1.020 -0.020 -0.129  1.005434  0.040968 -0.115213\n",
       "\n",
       "[436 rows x 6 columns]"
      ]
     },
     "execution_count": 56,
     "metadata": {},
     "output_type": "execute_result"
    }
   ],
   "source": [
    "pred_set"
   ]
  },
  {
   "cell_type": "code",
   "execution_count": null,
   "metadata": {},
   "outputs": [],
   "source": []
  }
 ],
 "metadata": {
  "interpreter": {
   "hash": "949777d72b0d2535278d3dc13498b2535136f6dfe0678499012e853ee9abcab1"
  },
  "kernelspec": {
   "display_name": "Python 3 (ipykernel)",
   "language": "python",
   "name": "python3"
  },
  "language_info": {
   "codemirror_mode": {
    "name": "ipython",
    "version": 3
   },
   "file_extension": ".py",
   "mimetype": "text/x-python",
   "name": "python",
   "nbconvert_exporter": "python",
   "pygments_lexer": "ipython3",
   "version": "3.9.13"
  }
 },
 "nbformat": 4,
 "nbformat_minor": 2
}
